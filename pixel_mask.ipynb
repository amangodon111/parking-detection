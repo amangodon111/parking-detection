{
 "cells": [
  {
   "cell_type": "code",
   "execution_count": 1,
   "metadata": {},
   "outputs": [],
   "source": [
    "import pandas as pd\n",
    "import numpy as np\n",
    "from PIL import Image\n",
    "import os\n",
    "import matplotlib.pyplot as plt\n",
    "import matplotlib.patches as patches\n",
    "import math"
   ]
  },
  {
   "cell_type": "code",
   "execution_count": 8,
   "metadata": {},
   "outputs": [
    {
     "name": "stdout",
     "output_type": "stream",
     "text": [
      "train_ship_segmentations_boxes.csv  train_ship_segmentations_v2.csv\n"
     ]
    }
   ],
   "source": [
    "!ls airbus/"
   ]
  },
  {
   "cell_type": "code",
   "execution_count": 9,
   "metadata": {},
   "outputs": [
    {
     "data": {
      "text/html": [
       "<div>\n",
       "<style scoped>\n",
       "    .dataframe tbody tr th:only-of-type {\n",
       "        vertical-align: middle;\n",
       "    }\n",
       "\n",
       "    .dataframe tbody tr th {\n",
       "        vertical-align: top;\n",
       "    }\n",
       "\n",
       "    .dataframe thead th {\n",
       "        text-align: right;\n",
       "    }\n",
       "</style>\n",
       "<table border=\"1\" class=\"dataframe\">\n",
       "  <thead>\n",
       "    <tr style=\"text-align: right;\">\n",
       "      <th></th>\n",
       "      <th>EncodedPixels</th>\n",
       "      <th>ImageId</th>\n",
       "      <th>angle</th>\n",
       "      <th>lx</th>\n",
       "      <th>ly</th>\n",
       "      <th>x</th>\n",
       "      <th>y</th>\n",
       "    </tr>\n",
       "  </thead>\n",
       "  <tbody>\n",
       "    <tr>\n",
       "      <th>0</th>\n",
       "      <td>NaN</td>\n",
       "      <td>00003e153.jpg</td>\n",
       "      <td>NaN</td>\n",
       "      <td>NaN</td>\n",
       "      <td>NaN</td>\n",
       "      <td>NaN</td>\n",
       "      <td>NaN</td>\n",
       "    </tr>\n",
       "    <tr>\n",
       "      <th>1</th>\n",
       "      <td>264661 17 265429 33 266197 33 266965 33 267733...</td>\n",
       "      <td>000155de5.jpg</td>\n",
       "      <td>-0.031697</td>\n",
       "      <td>102.440949</td>\n",
       "      <td>32.901931</td>\n",
       "      <td>395.235055</td>\n",
       "      <td>482.511398</td>\n",
       "    </tr>\n",
       "    <tr>\n",
       "      <th>2</th>\n",
       "      <td>101361 1 102128 3 102896 4 103663 6 104430 9 1...</td>\n",
       "      <td>00021ddc3.jpg</td>\n",
       "      <td>-0.587604</td>\n",
       "      <td>36.325820</td>\n",
       "      <td>11.545350</td>\n",
       "      <td>149.224538</td>\n",
       "      <td>746.349941</td>\n",
       "    </tr>\n",
       "    <tr>\n",
       "      <th>3</th>\n",
       "      <td>95225 2 95992 5 96760 7 97527 9 98294 9 99062 ...</td>\n",
       "      <td>00021ddc3.jpg</td>\n",
       "      <td>-0.603009</td>\n",
       "      <td>11.772402</td>\n",
       "      <td>7.361299</td>\n",
       "      <td>128.813435</td>\n",
       "      <td>760.125980</td>\n",
       "    </tr>\n",
       "    <tr>\n",
       "      <th>4</th>\n",
       "      <td>74444 4 75212 4 75980 4 76748 4 77517 3 78285 ...</td>\n",
       "      <td>00021ddc3.jpg</td>\n",
       "      <td>0.153686</td>\n",
       "      <td>11.092947</td>\n",
       "      <td>3.825867</td>\n",
       "      <td>100.992299</td>\n",
       "      <td>717.049660</td>\n",
       "    </tr>\n",
       "  </tbody>\n",
       "</table>\n",
       "</div>"
      ],
      "text/plain": [
       "                                       EncodedPixels        ImageId     angle  \\\n",
       "0                                                NaN  00003e153.jpg       NaN   \n",
       "1  264661 17 265429 33 266197 33 266965 33 267733...  000155de5.jpg -0.031697   \n",
       "2  101361 1 102128 3 102896 4 103663 6 104430 9 1...  00021ddc3.jpg -0.587604   \n",
       "3  95225 2 95992 5 96760 7 97527 9 98294 9 99062 ...  00021ddc3.jpg -0.603009   \n",
       "4  74444 4 75212 4 75980 4 76748 4 77517 3 78285 ...  00021ddc3.jpg  0.153686   \n",
       "\n",
       "           lx         ly           x           y  \n",
       "0         NaN        NaN         NaN         NaN  \n",
       "1  102.440949  32.901931  395.235055  482.511398  \n",
       "2   36.325820  11.545350  149.224538  746.349941  \n",
       "3   11.772402   7.361299  128.813435  760.125980  \n",
       "4   11.092947   3.825867  100.992299  717.049660  "
      ]
     },
     "execution_count": 9,
     "metadata": {},
     "output_type": "execute_result"
    }
   ],
   "source": [
    "BOXES_PATH = 'airbus/train_ship_segmentations_boxes.csv'\n",
    "#IMG_PATH = '../input/airbus-ship-detection/train/'\n",
    "box_df = pd.read_csv(BOXES_PATH)\n",
    "box_df.head()"
   ]
  },
  {
   "cell_type": "code",
   "execution_count": 12,
   "metadata": {},
   "outputs": [],
   "source": [
    "#convert RLE mask into 2d pixel array\n",
    "def encode_mask(mask, shape=(768,768)):\n",
    "    img = np.zeros(shape[0]*shape[1], dtype=np.uint8)\n",
    "    s = mask.split()\n",
    "    for i in range(len(s)//2):\n",
    "        start = int(s[2*i]) - 1\n",
    "        length = int(s[2*i+1])\n",
    "        img[start:start+length] = 1\n",
    "    return img.reshape(shape).T\n",
    "\n",
    "#get bounding box for a mask\n",
    "def get_bbox(img):\n",
    "    rows = np.any(img, axis=1)\n",
    "    cols = np.any(img, axis=0)\n",
    "    rmin, rmax = np.where(rows)[0][[0, -1]]\n",
    "    cmin, cmax = np.where(cols)[0][[0, -1]]\n",
    "    return rmin, rmax, cmin, cmax\n",
    "\n",
    "#add padding to the bounding box\n",
    "def get_bbox_p(img, padding=5):\n",
    "    x1,x2,y1,y2 = get_bbox(img)\n",
    "    lx,ly = img.shape\n",
    "    x1 = max(x1-padding,0)\n",
    "    x2 = min(x2+padding+1, lx-1)\n",
    "    y1 = max(y1-padding,0)\n",
    "    y2 = min(y2+padding+1, ly-1)\n",
    "    return x1,x2,y1,y2\n",
    "\n",
    "#convert parameters of the box for plotting\n",
    "def convert_box(box):\n",
    "    rot1 = math.cos(box[4])\n",
    "    rot2 = math.sin(box[4])\n",
    "    bx1 = box[0] - 0.5*(box[2]*rot1 - box[3]*rot2)\n",
    "    bx2 = box[1] - 0.5*(box[2]*rot2 + box[3]*rot1)\n",
    "    return (bx1,bx2,box[2],box[3],box[4]*180.0/math.pi)\n",
    "\n",
    "def get_rec(box,width=1):\n",
    "    b = convert_box(box)\n",
    "    return patches.Rectangle((b[0],b[1]),b[2],b[3],b[4],linewidth=width,edgecolor='g',facecolor='none')"
   ]
  },
  {
   "cell_type": "code",
   "execution_count": 13,
   "metadata": {},
   "outputs": [],
   "source": [
    "#plot image, mask, zoomed image, and zoomed mask with rotating bounding boxes\n",
    "def show_box(idx):\n",
    "    row = box_df.iloc[idx]\n",
    "    name, encoding, x, y, lx, ly, rot = row.ImageId, row.EncodedPixels, \\\n",
    "        row.x, row.y, row.lx, row.ly, row.angle\n",
    "    if(type(encoding) == float): return #empty image\n",
    "\n",
    "    mask = encode_mask(encoding)\n",
    "    box = (x,y,lx,ly,rot)\n",
    "    image = np.asarray(Image.open(os.path.join(IMG_PATH,name)))\n",
    "    \n",
    "    fig,ax = plt.subplots(2, 2, figsize=(16, 16))\n",
    "    ax[0,0].imshow(image)\n",
    "    ax[0,1].imshow(mask)\n",
    "    ax[0,0].add_patch(get_rec(box))\n",
    "    ax[0,1].add_patch(get_rec(box))\n",
    "    \n",
    "    y1,y2,x1,x2 = get_bbox_p(mask,10)\n",
    "    box_c = (x-x1,y-y1,lx,ly,rot)\n",
    "    ax[1,0].imshow(image[y1:y2,x1:x2,:])\n",
    "    ax[1,1].imshow(mask[y1:y2,x1:x2])\n",
    "    ax[1,0].add_patch(get_rec(box_c,3))\n",
    "    ax[1,1].add_patch(get_rec(box_c,3))\n",
    "    \n",
    "    for item in ax.flatten():\n",
    "        item.axis('off')\n",
    "    plt.show()"
   ]
  },
  {
   "cell_type": "code",
   "execution_count": 22,
   "metadata": {},
   "outputs": [
    {
     "data": {
      "text/plain": [
       "(434,)"
      ]
     },
     "execution_count": 22,
     "metadata": {},
     "output_type": "execute_result"
    }
   ],
   "source": [
    "np.array([int(i) for i in box_df.loc[20, 'EncodedPixels'].split()]).shape"
   ]
  },
  {
   "cell_type": "code",
   "execution_count": 18,
   "metadata": {},
   "outputs": [
    {
     "data": {
      "text/plain": [
       "<matplotlib.image.AxesImage at 0x7f914ffc4860>"
      ]
     },
     "execution_count": 18,
     "metadata": {},
     "output_type": "execute_result"
    },
    {
     "data": {
      "image/png": "[encoded data removed]",
      "text/plain": [
       "<Figure size 432x288 with 1 Axes>"
      ]
     },
     "metadata": {
      "needs_background": "light"
     },
     "output_type": "display_data"
    }
   ],
   "source": [
    "plt.imshow(encode_mask(box_df.loc[20, 'EncodedPixels']))"
   ]
  },
  {
   "cell_type": "code",
   "execution_count": null,
   "metadata": {},
   "outputs": [],
   "source": []
  }
 ],
 "metadata": {
  "kernelspec": {
   "display_name": "Python 3",
   "language": "python",
   "name": "python3"
  },
  "language_info": {
   "codemirror_mode": {
    "name": "ipython",
    "version": 3
   },
   "file_extension": ".py",
   "mimetype": "text/x-python",
   "name": "python",
   "nbconvert_exporter": "python",
   "pygments_lexer": "ipython3",
   "version": "3.6.8"
  }
 },
 "nbformat": 4,
 "nbformat_minor": 2
}
