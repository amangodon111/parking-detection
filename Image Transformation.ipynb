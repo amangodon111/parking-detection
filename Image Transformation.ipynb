{
 "cells": [
  {
   "cell_type": "code",
   "execution_count": 1,
   "metadata": {},
   "outputs": [],
   "source": [
    "import pandas as pd\n",
    "import numpy as np\n",
    "import matplotlib.pyplot as plt\n",
    "from matplotlib.patches import Patch\n",
    "import os, shutil\n",
    "import torch\n",
    "import torch.nn.functional as F\n",
    "import torchvision.transforms.functional as TF\n",
    "\n",
    "#from sklearn.model_selection import train_test_split\n",
    "from pathlib import Path\n",
    "from torch import nn\n",
    "from torch.utils.data.dataset import Dataset\n",
    "from torchvision import models, transforms\n",
    "from collections import defaultdict\n",
    "from random import shuffle\n",
    "from PIL import Image\n",
    "from shapely.geometry import Polygon\n",
    "\n",
    "import functools\n",
    "\n",
    "\n",
    "%matplotlib inline"
   ]
  },
  {
   "cell_type": "code",
   "execution_count": 2,
   "metadata": {},
   "outputs": [
    {
     "name": "stdout",
     "output_type": "stream",
     "text": [
      "CUDA is available!  Training on GPU ...\n"
     ]
    }
   ],
   "source": [
    "# check if CUDA is available\n",
    "train_on_gpu = torch.cuda.is_available()\n",
    "device = torch.device(\"cuda\" if torch.cuda.is_available() else \"cpu\")\n",
    "\n",
    "if not train_on_gpu:\n",
    "    print('CUDA is not available.  Training on CPU ...')\n",
    "else:\n",
    "    print('CUDA is available!  Training on GPU ...')"
   ]
  },
  {
   "cell_type": "code",
   "execution_count": 9,
   "metadata": {},
   "outputs": [
    {
     "data": {
      "text/plain": [
       "2"
      ]
     },
     "execution_count": 9,
     "metadata": {},
     "output_type": "execute_result"
    }
   ],
   "source": [
    "torch.cuda.device_count()"
   ]
  },
  {
   "cell_type": "code",
   "execution_count": 3,
   "metadata": {},
   "outputs": [],
   "source": [
    "class_data = pd.read_csv('pklot_class_data.csv')\n",
    "bbox_data = pd.read_csv('pklot_bbox_data.csv')"
   ]
  },
  {
   "cell_type": "code",
   "execution_count": 4,
   "metadata": {},
   "outputs": [],
   "source": [
    "data = class_data.merge(bbox_data, left_on='image_path', right_on='image_path')"
   ]
  },
  {
   "cell_type": "code",
   "execution_count": 5,
   "metadata": {
    "scrolled": true
   },
   "outputs": [
    {
     "data": {
      "text/html": [
       "<div>\n",
       "<style scoped>\n",
       "    .dataframe tbody tr th:only-of-type {\n",
       "        vertical-align: middle;\n",
       "    }\n",
       "\n",
       "    .dataframe tbody tr th {\n",
       "        vertical-align: top;\n",
       "    }\n",
       "\n",
       "    .dataframe thead th {\n",
       "        text-align: right;\n",
       "    }\n",
       "</style>\n",
       "<table border=\"1\" class=\"dataframe\">\n",
       "  <thead>\n",
       "    <tr style=\"text-align: right;\">\n",
       "      <th></th>\n",
       "      <th>image_path</th>\n",
       "      <th>occupied</th>\n",
       "      <th>rotated_bbox</th>\n",
       "    </tr>\n",
       "  </thead>\n",
       "  <tbody>\n",
       "    <tr>\n",
       "      <th>0</th>\n",
       "      <td>PKLot/PKLot/UFPR04/Rainy/2013-01-18/2013-01-18...</td>\n",
       "      <td>0 1 1 0 0 0 0 0 0 1 0 0 0 0 0 0 0 0 0 0 1 0 0 ...</td>\n",
       "      <td>651 636 141 83 -34 705 563 139 77 -44 732 480 ...</td>\n",
       "    </tr>\n",
       "    <tr>\n",
       "      <th>1</th>\n",
       "      <td>PKLot/PKLot/UFPR04/Rainy/2013-01-18/2013-01-18...</td>\n",
       "      <td>0 1 0 0 0 0 0 0 0 1 0 0 0 0 0 0 0 0 0 0 1 0 0 ...</td>\n",
       "      <td>651 636 141 83 -34 705 563 139 77 -44 732 480 ...</td>\n",
       "    </tr>\n",
       "    <tr>\n",
       "      <th>2</th>\n",
       "      <td>PKLot/PKLot/UFPR04/Rainy/2013-01-18/2013-01-18...</td>\n",
       "      <td>1 1 1 0 0 0 0 0 0 1 0 0 0 0 0 1 0 0 0 0 0 0 0 ...</td>\n",
       "      <td>651 636 141 83 -34 705 563 139 77 -44 732 480 ...</td>\n",
       "    </tr>\n",
       "    <tr>\n",
       "      <th>3</th>\n",
       "      <td>PKLot/PKLot/UFPR04/Rainy/2013-01-18/2013-01-18...</td>\n",
       "      <td>1 0 0 0 0 0 0 0 0 1 0 0 0 0 0 1 0 0 0 0 0 0 0 ...</td>\n",
       "      <td>651 636 141 83 -34 705 563 139 77 -44 732 480 ...</td>\n",
       "    </tr>\n",
       "    <tr>\n",
       "      <th>4</th>\n",
       "      <td>PKLot/PKLot/UFPR04/Rainy/2013-01-18/2013-01-18...</td>\n",
       "      <td>1 1 0 0 0 0 0 0 0 1 0 0 0 0 0 1 0 0 0 0 0 0 0 ...</td>\n",
       "      <td>651 636 141 83 -34 705 563 139 77 -44 732 480 ...</td>\n",
       "    </tr>\n",
       "  </tbody>\n",
       "</table>\n",
       "</div>"
      ],
      "text/plain": [
       "                                          image_path  \\\n",
       "0  PKLot/PKLot/UFPR04/Rainy/2013-01-18/2013-01-18...   \n",
       "1  PKLot/PKLot/UFPR04/Rainy/2013-01-18/2013-01-18...   \n",
       "2  PKLot/PKLot/UFPR04/Rainy/2013-01-18/2013-01-18...   \n",
       "3  PKLot/PKLot/UFPR04/Rainy/2013-01-18/2013-01-18...   \n",
       "4  PKLot/PKLot/UFPR04/Rainy/2013-01-18/2013-01-18...   \n",
       "\n",
       "                                            occupied  \\\n",
       "0  0 1 1 0 0 0 0 0 0 1 0 0 0 0 0 0 0 0 0 0 1 0 0 ...   \n",
       "1  0 1 0 0 0 0 0 0 0 1 0 0 0 0 0 0 0 0 0 0 1 0 0 ...   \n",
       "2  1 1 1 0 0 0 0 0 0 1 0 0 0 0 0 1 0 0 0 0 0 0 0 ...   \n",
       "3  1 0 0 0 0 0 0 0 0 1 0 0 0 0 0 1 0 0 0 0 0 0 0 ...   \n",
       "4  1 1 0 0 0 0 0 0 0 1 0 0 0 0 0 1 0 0 0 0 0 0 0 ...   \n",
       "\n",
       "                                        rotated_bbox  \n",
       "0  651 636 141 83 -34 705 563 139 77 -44 732 480 ...  \n",
       "1  651 636 141 83 -34 705 563 139 77 -44 732 480 ...  \n",
       "2  651 636 141 83 -34 705 563 139 77 -44 732 480 ...  \n",
       "3  651 636 141 83 -34 705 563 139 77 -44 732 480 ...  \n",
       "4  651 636 141 83 -34 705 563 139 77 -44 732 480 ...  "
      ]
     },
     "execution_count": 5,
     "metadata": {},
     "output_type": "execute_result"
    }
   ],
   "source": [
    "data.head()"
   ]
  },
  {
   "cell_type": "code",
   "execution_count": 6,
   "metadata": {},
   "outputs": [],
   "source": [
    "data = pd.read_csv('pklot_combined_bbox_rbox.csv')"
   ]
  },
  {
   "cell_type": "code",
   "execution_count": 7,
   "metadata": {},
   "outputs": [],
   "source": [
    "data['rotated_bbox'] = data['rotated_bbox'].map(lambda x: np.array([int(num) for num in x.split()]))\n",
    "data['rotated_bbox'] = data['rotated_bbox'].map(lambda x: np.split(x, len(x) / 5))"
   ]
  },
  {
   "cell_type": "code",
   "execution_count": 8,
   "metadata": {},
   "outputs": [],
   "source": [
    "data['occupied'] = data['occupied'].map(lambda x: [int(num) for num in x.split()])"
   ]
  },
  {
   "cell_type": "code",
   "execution_count": 9,
   "metadata": {},
   "outputs": [],
   "source": [
    "data['image_path'] = data['image_path'].map(lambda x: Path(x))"
   ]
  },
  {
   "cell_type": "code",
   "execution_count": 10,
   "metadata": {},
   "outputs": [
    {
     "data": {
      "text/html": [
       "<div>\n",
       "<style scoped>\n",
       "    .dataframe tbody tr th:only-of-type {\n",
       "        vertical-align: middle;\n",
       "    }\n",
       "\n",
       "    .dataframe tbody tr th {\n",
       "        vertical-align: top;\n",
       "    }\n",
       "\n",
       "    .dataframe thead th {\n",
       "        text-align: right;\n",
       "    }\n",
       "</style>\n",
       "<table border=\"1\" class=\"dataframe\">\n",
       "  <thead>\n",
       "    <tr style=\"text-align: right;\">\n",
       "      <th></th>\n",
       "      <th>image_path</th>\n",
       "      <th>occupied</th>\n",
       "      <th>rotated_bbox</th>\n",
       "    </tr>\n",
       "  </thead>\n",
       "  <tbody>\n",
       "    <tr>\n",
       "      <th>0</th>\n",
       "      <td>PKLot/PKLot/UFPR04/Rainy/2013-01-18/2013-01-18...</td>\n",
       "      <td>[0, 1, 1, 0, 0, 0, 0, 0, 0, 1, 0, 0, 0, 0, 0, ...</td>\n",
       "      <td>[[651, 636, 141, 83, -34], [705, 563, 139, 77,...</td>\n",
       "    </tr>\n",
       "    <tr>\n",
       "      <th>1</th>\n",
       "      <td>PKLot/PKLot/UFPR04/Rainy/2013-01-18/2013-01-18...</td>\n",
       "      <td>[0, 1, 0, 0, 0, 0, 0, 0, 0, 1, 0, 0, 0, 0, 0, ...</td>\n",
       "      <td>[[651, 636, 141, 83, -34], [705, 563, 139, 77,...</td>\n",
       "    </tr>\n",
       "    <tr>\n",
       "      <th>2</th>\n",
       "      <td>PKLot/PKLot/UFPR04/Rainy/2013-01-18/2013-01-18...</td>\n",
       "      <td>[1, 1, 1, 0, 0, 0, 0, 0, 0, 1, 0, 0, 0, 0, 0, ...</td>\n",
       "      <td>[[651, 636, 141, 83, -34], [705, 563, 139, 77,...</td>\n",
       "    </tr>\n",
       "    <tr>\n",
       "      <th>3</th>\n",
       "      <td>PKLot/PKLot/UFPR04/Rainy/2013-01-18/2013-01-18...</td>\n",
       "      <td>[1, 0, 0, 0, 0, 0, 0, 0, 0, 1, 0, 0, 0, 0, 0, ...</td>\n",
       "      <td>[[651, 636, 141, 83, -34], [705, 563, 139, 77,...</td>\n",
       "    </tr>\n",
       "    <tr>\n",
       "      <th>4</th>\n",
       "      <td>PKLot/PKLot/UFPR04/Rainy/2013-01-18/2013-01-18...</td>\n",
       "      <td>[1, 1, 0, 0, 0, 0, 0, 0, 0, 1, 0, 0, 0, 0, 0, ...</td>\n",
       "      <td>[[651, 636, 141, 83, -34], [705, 563, 139, 77,...</td>\n",
       "    </tr>\n",
       "  </tbody>\n",
       "</table>\n",
       "</div>"
      ],
      "text/plain": [
       "                                          image_path  \\\n",
       "0  PKLot/PKLot/UFPR04/Rainy/2013-01-18/2013-01-18...   \n",
       "1  PKLot/PKLot/UFPR04/Rainy/2013-01-18/2013-01-18...   \n",
       "2  PKLot/PKLot/UFPR04/Rainy/2013-01-18/2013-01-18...   \n",
       "3  PKLot/PKLot/UFPR04/Rainy/2013-01-18/2013-01-18...   \n",
       "4  PKLot/PKLot/UFPR04/Rainy/2013-01-18/2013-01-18...   \n",
       "\n",
       "                                            occupied  \\\n",
       "0  [0, 1, 1, 0, 0, 0, 0, 0, 0, 1, 0, 0, 0, 0, 0, ...   \n",
       "1  [0, 1, 0, 0, 0, 0, 0, 0, 0, 1, 0, 0, 0, 0, 0, ...   \n",
       "2  [1, 1, 1, 0, 0, 0, 0, 0, 0, 1, 0, 0, 0, 0, 0, ...   \n",
       "3  [1, 0, 0, 0, 0, 0, 0, 0, 0, 1, 0, 0, 0, 0, 0, ...   \n",
       "4  [1, 1, 0, 0, 0, 0, 0, 0, 0, 1, 0, 0, 0, 0, 0, ...   \n",
       "\n",
       "                                        rotated_bbox  \n",
       "0  [[651, 636, 141, 83, -34], [705, 563, 139, 77,...  \n",
       "1  [[651, 636, 141, 83, -34], [705, 563, 139, 77,...  \n",
       "2  [[651, 636, 141, 83, -34], [705, 563, 139, 77,...  \n",
       "3  [[651, 636, 141, 83, -34], [705, 563, 139, 77,...  \n",
       "4  [[651, 636, 141, 83, -34], [705, 563, 139, 77,...  "
      ]
     },
     "execution_count": 10,
     "metadata": {},
     "output_type": "execute_result"
    }
   ],
   "source": [
    "data.head()"
   ]
  },
  {
   "cell_type": "code",
   "execution_count": 11,
   "metadata": {},
   "outputs": [],
   "source": [
    "occupied, image_path, rotated_bbox = (data.loc[0, 'occupied'], data.loc[0, 'image_path'], data.loc[0, 'rotated_bbox'])"
   ]
  },
  {
   "cell_type": "code",
   "execution_count": 12,
   "metadata": {},
   "outputs": [
    {
     "data": {
      "text/plain": [
       "PosixPath('PKLot/PKLot/UFPR04/Rainy/2013-01-18/2013-01-18_18_35_15.jpg')"
      ]
     },
     "execution_count": 12,
     "metadata": {},
     "output_type": "execute_result"
    }
   ],
   "source": [
    "image_path"
   ]
  },
  {
   "cell_type": "code",
   "execution_count": 13,
   "metadata": {},
   "outputs": [
    {
     "data": {
      "text/plain": [
       "[0,\n",
       " 1,\n",
       " 1,\n",
       " 0,\n",
       " 0,\n",
       " 0,\n",
       " 0,\n",
       " 0,\n",
       " 0,\n",
       " 1,\n",
       " 0,\n",
       " 0,\n",
       " 0,\n",
       " 0,\n",
       " 0,\n",
       " 0,\n",
       " 0,\n",
       " 0,\n",
       " 0,\n",
       " 0,\n",
       " 1,\n",
       " 0,\n",
       " 0,\n",
       " 0,\n",
       " 0,\n",
       " 0,\n",
       " 0,\n",
       " 0]"
      ]
     },
     "execution_count": 13,
     "metadata": {},
     "output_type": "execute_result"
    }
   ],
   "source": [
    "occupied"
   ]
  },
  {
   "cell_type": "code",
   "execution_count": 14,
   "metadata": {},
   "outputs": [
    {
     "data": {
      "text/plain": [
       "[array([651, 636, 141,  83, -34]),\n",
       " array([705, 563, 139,  77, -44]),\n",
       " array([732, 480, 124,  60, -48]),\n",
       " array([762, 409, 113,  54, -51]),\n",
       " array([773, 346, 109,  49, -56]),\n",
       " array([803, 296, 101,  47, -61]),\n",
       " array([818, 255,  95,  33, -65]),\n",
       " array([837, 222,  91,  34, -68]),\n",
       " array([856, 192,  86,  31, -69]),\n",
       " array([469, 649,  82, 169, -16]),\n",
       " array([644, 352,  45, 116, -17]),\n",
       " array([687, 300,  42, 101, -14]),\n",
       " array([693, 262,  38, 108, -10]),\n",
       " array([733, 227,  35,  97,  -8]),\n",
       " array([737, 193,  29,  93,  -9]),\n",
       " array([307, 326,  73,  64, -27]),\n",
       " array([361, 283,  60,  56, -32]),\n",
       " array([403, 246,  68,  48, -43]),\n",
       " array([452, 214,  61,  48, -47]),\n",
       " array([482, 184,  61,  47, -45]),\n",
       " array([513, 161,  54,  36, -48]),\n",
       " array([127, 363,  79,  76, -19]),\n",
       " array([198, 310,  79,  75, -19]),\n",
       " array([260, 276,  73,  63, -25]),\n",
       " array([316, 243,  67,  56, -30]),\n",
       " array([359, 211,  58,  50, -30]),\n",
       " array([401, 186,  55,  47, -36]),\n",
       " array([437, 162,  54,  49, -34])]"
      ]
     },
     "execution_count": 14,
     "metadata": {},
     "output_type": "execute_result"
    }
   ],
   "source": [
    "rotated_bbox"
   ]
  },
  {
   "cell_type": "code",
   "execution_count": null,
   "metadata": {},
   "outputs": [],
   "source": []
  },
  {
   "cell_type": "code",
   "execution_count": 15,
   "metadata": {},
   "outputs": [],
   "source": [
    "\n",
    "def transform_get_image_from_path(image_path, occupied, rotated_bbox):\n",
    "    return Image.open(image_path, mode='r'), occupied, rotated_bbox\n",
    "\n",
    "\n",
    "def transform_get_pil(image, occupied, rotated_bbox):\n",
    "    return TF.to_pil_image(image), occupied, rotated_bbox\n",
    "\n",
    "\n",
    "def transform_get_tensor(image, occupied, rotated_bbox):\n",
    "    return TF.to_tensor(image), occupied, rotated_bbox\n",
    "\n",
    "\n",
    "def transform_padding(img, occupied, rotated_bbox):\n",
    "    \"\"\"\n",
    "    Paramters:\n",
    "    ----------\n",
    "    img: tensor (CxHxW)\n",
    "    occupied: tensor occupied or not \n",
    "    rotated_bbox: tesnor (N, 5) of rotated boxes \n",
    "    \n",
    "    Returns:\n",
    "    image: the image loaded padded with zeros on the short size\n",
    "    --------\n",
    "    \"\"\"\n",
    "    \n",
    "    length = np.max(img.size())\n",
    "    img_size =  3, length, length\n",
    "    \n",
    "    pad_bot = length - img.size()[1]\n",
    "    pad_right = length - img.size()[2]\n",
    "    \n",
    "    new_image = F.pad(img, (0, pad_right, 0, pad_bot))\n",
    "    \n",
    "    return new_image, occupied, rotated_bbox\n",
    "    \n",
    "\n",
    "def transform_random_crop(image, occupied, rotated_bbox):\n",
    "    \"\"\"\n",
    "    Parameters:\n",
    "    image: a tensor image\n",
    "    occupied: occupied tensor (N,)\n",
    "    rotated_bbox: tensor (N, 5) of rotated bounding boxes\n",
    "\n",
    "    Returns:\n",
    "    image: cropped image\n",
    "    new_occp: occupied tensor (M,) depending on how many of the \n",
    "        rotated boxes are within the image\n",
    "    rotated_bbox: tesnor (M, 5) rotated bboxes updated according to crop\n",
    "    \"\"\"\n",
    "    \n",
    "    _, height, width = image.shape\n",
    "    m = int(np.min([height, width]))\n",
    "    \n",
    "    \n",
    "    \n",
    "    counter = 0\n",
    "\n",
    "    while counter < 50:\n",
    "        counter += 1\n",
    "        \n",
    "        rnd_size = np.random.randint(300, m + 1)\n",
    "\n",
    "\n",
    "        rnd_x = np.random.randint(0, height - 299)\n",
    "        rnd_y = np.random.randint(0, width - 299)\n",
    "\n",
    "        x1 = rnd_x\n",
    "        x2 = rnd_x + rnd_size\n",
    "\n",
    "        y1 = rnd_y\n",
    "        y2 = rnd_y + rnd_size\n",
    "        \n",
    "        new_image = image[:, x1:x2, y1:y2] # TF.crop(image, rnd_y, rnd_x, rnd_size, rnd_size)\n",
    "\n",
    "        new_rbbox = rotated_bbox.clone().detach()\n",
    "\n",
    "        to_remain = (new_rbbox[:, 0] < y2) * (new_rbbox[:, 0] > y1) * (new_rbbox[:, 1] > x1) * (new_rbbox[:, 1] < x2)\n",
    "\n",
    "        if not to_remain.any():\n",
    "            continue\n",
    "\n",
    "        \n",
    "        new_rbbox = new_rbbox[to_remain, :]\n",
    "        new_occp = occupied[to_remain]\n",
    "\n",
    "        new_rbbox[:, 0] = new_rbbox[:, 0] - y1\n",
    "        new_rbbox[:, 1] = new_rbbox[:, 1] - x1\n",
    "\n",
    "\n",
    "        return new_image, new_occp, new_rbbox\n",
    "\n",
    "\n",
    "    #         for i, (cx, cy, h, w, a) in enumerate(rotated_bbox):\n",
    "    #             if x1 < cx and cx < x2 and y1 < cy and cy < y2:\n",
    "    #                 new_occp.append(occupied[i])\n",
    "    #                 new_rbbox.append([cx - x1, cy - y1, h, w, a])\n",
    "\n",
    "\n",
    "\n",
    "\n",
    "    \n",
    "    return image, occupied, rotated_bbox\n",
    "\n",
    "    \n",
    "\n",
    "def transform_resize(image, occupied, rotated_bbox):\n",
    "    \"\"\"\n",
    "    Parameters:\n",
    "    -----------\n",
    "    image: Tensor Image, make sure it is square\n",
    "    \n",
    "    Return:\n",
    "    -------\n",
    "    image: Tensor image\n",
    "    \"\"\"\n",
    "    \n",
    "    _, width, height = image.shape\n",
    "    ratio = width / 300\n",
    "    image = image.unsqueeze(dim=0)\n",
    "    image = F.interpolate(image, size=(300,300), mode='bilinear')\n",
    "    image = image.squeeze(dim=0)\n",
    "#     image = TF.resize(image, (300, 300))\n",
    "    rotated_bbox[:, 0:4] /= ratio\n",
    "    \n",
    "#     rotated_bbox = list(map(lambda rbox: [int(rbox[0]/ratio), int(rbox[1]/ratio),\n",
    "#                                           int(rbox[2]/ratio), int(rbox[3]/ratio), rbox[4]], rotated_bbox))\n",
    "    \n",
    "    \n",
    "    \n",
    "    return image, occupied, rotated_bbox\n",
    "\n",
    "def transform_normalize_color(image, occupied, rotated_bbox):\n",
    "    \"\"\"\n",
    "    Normalizes color images.\n",
    "    Assumes Tensor image as input.\n",
    "    Returns:\n",
    "    --------\n",
    "    image: tensor\n",
    "    \"\"\"\n",
    "    \n",
    "    image = TF.normalize(image, mean=[0.485, 0.456, 0.406], std=[0.229, 0.224, 0.225])\n",
    "    \n",
    "    \n",
    "    return image, occupied, rotated_bbox\n",
    "    \n",
    "    \n",
    "    \n",
    "def transform_guassian_noise(image, occupied, rotated_bbox):\n",
    "    \"\"\"\n",
    "    Assumes image is tensor.\n",
    "    Adds guassian noise to the image:\n",
    "    assume image is tensor\n",
    "    \"\"\"\n",
    "    \n",
    "    noise = torch.randn_like(image) / 12\n",
    "    image = image + noise\n",
    "    image = torch.clamp(image, 0, 1)\n",
    "    \n",
    "    \n",
    "    return image, occupied, rotated_bbox\n",
    "    \n",
    "    \n",
    "\n",
    "def transform_random_mirror(image, occupied, rotated_bbox):\n",
    "    \"\"\"\n",
    "    Assumes image is PIL.\n",
    "    So make sure to have a PIL transformation before this one!\n",
    "    Randomly mirrors the image horizontally or vertially\n",
    "    Call only after resize\n",
    "    \"\"\"\n",
    "    \n",
    "    \n",
    "    vflip = bool(np.random.randint(0, 2))\n",
    "    hflip = bool(np.random.randint(0, 2))\n",
    "    length, width = image.size\n",
    "    \n",
    "    if vflip:\n",
    "        image = TF.vflip(image)\n",
    "        rotated_bbox[:, 1] = length - rotated_bbox[:, 1]\n",
    "        rotated_bbox = torch.index_select(rotated_bbox, 1, torch.LongTensor([0,1,3,2,4]))\n",
    "#         tmp = rotated_bbox[:, 2].clone().detach()\n",
    "#         rotated_bbox[:, 2] = rotated_bbox[:, 3]\n",
    "#         rotated_bbox[:, 3] = tmp\n",
    "        rotated_bbox[:, 4] = -90 - rotated_bbox[:, 4]\n",
    "#         rotated_bbox = list(map(lambda rbox: [rbox[0], 300 - rbox[1], rbox[2], rbox[3], -rbox[4]], rotated_bbox))\n",
    "        \n",
    "    if hflip:\n",
    "        image = TF.hflip(image)\n",
    "        rotated_bbox[:, 0] = width - rotated_bbox[:, 0]\n",
    "        rotated_bbox = torch.index_select(rotated_bbox, 1, torch.LongTensor([0,1,3,2,4]))\n",
    "#         tmp = rotated_bbox[:, 2].clone().detach()\n",
    "#         rotated_bbox[:, 2] = rotated_bbox[:, 3]\n",
    "#         rotated_bbox[:, 3] = tmp\n",
    "        rotated_bbox[:, 4] = -90 - rotated_bbox[:, 4]\n",
    "#         rotated_bbox = list(map(lambda rbox: [300 - rbox[0], rbox[1], rbox[2], rbox[3], -rbox[4]], rotated_bbox))\n",
    "    \n",
    "    \n",
    "    return image, occupied, rotated_bbox\n",
    "    \n",
    "\n",
    "def transform_random_rotate(image, occupied, rotated_bbox):\n",
    "    \"\"\"\n",
    "    TODO\n",
    "    Parameters:\n",
    "    -----------\n",
    "    image: make sure it is square and is PIL,\n",
    "    So make sure to have a PIL transformation before this one!\n",
    "    \n",
    "    Return:\n",
    "    -------\n",
    "    image: tensor\n",
    "    \"\"\"\n",
    "    angles = [0, 90, 180, 270]\n",
    "    \n",
    "    angle_idx = np.random.randint(0, 4)\n",
    "    \n",
    "    image = TF.rotate(image, angles[angle_idx])\n",
    "    \n",
    "    pass\n",
    "    \n",
    "\n"
   ]
  },
  {
   "cell_type": "code",
   "execution_count": 16,
   "metadata": {},
   "outputs": [],
   "source": [
    "def show_img(image, figsize=None, ax=None):\n",
    "    if not ax: \n",
    "        fig,ax = plt.subplots(figsize=figsize)\n",
    "    ax.imshow(np.transpose(image, (1, 2, 0)), zorder=1)\n",
    "    ax.grid()\n",
    "    ax.set_yticklabels([])\n",
    "    ax.set_xticklabels([])\n",
    "    return ax\n",
    "\n",
    "def to_corner(cx, cy, w, h, a, up, right):\n",
    "    theta = a.double() * np.pi / 180 \n",
    "    # cx, cy - center of square coordinates\n",
    "    # x, y - coordinates of a corner point of the square\n",
    "    # theta is the angle of rotation\n",
    "    if up:\n",
    "        y = cy + (h / 2)\n",
    "    else:\n",
    "        y = cy - (h / 2)\n",
    "\n",
    "    if right:\n",
    "        x = cx + (w / 2)\n",
    "    else:\n",
    "        x = cx - (w / 2)\n",
    "\n",
    "    # translate point to origin\n",
    "    temp_x = x - cx\n",
    "    temp_y = y - cy\n",
    "\n",
    "    # now apply rotation\n",
    "    rotated_x = temp_x * np.cos(theta) - temp_y * np.sin(theta)\n",
    "    rotated_y = temp_x * np.sin(theta) + temp_y * np.cos(theta)\n",
    "\n",
    "    # translate back\n",
    "    x_prime = rotated_x + cx\n",
    "    y_prime = rotated_y + cy\n",
    "    \n",
    "    return x_prime, y_prime\n",
    "\n",
    "def create_polygon(cx, cy, w, h, a):\n",
    "    return Polygon([to_corner(cx, cy, w, h, a, up, right) for up, right in \n",
    "                    [(True, False), (True, True), (False, True), (False, False)]])\n",
    "\n",
    "def create_polygon_list(rotated_bboxes):\n",
    "    return [create_polygon(box[0], box[1], box[3], box[2], box[4]) for box in rotated_bboxes]\n",
    "\n",
    "def draw_poly(ax, poly, c='black', linewidth=2):\n",
    "    x,y = poly.exterior.xy\n",
    "    ax.plot(x, y, color=c, alpha=0.7, linewidth=linewidth, solid_capstyle='round', zorder=2)\n",
    "\n",
    "def show_truth(image, rotated_bboxes, labels, ax, linewidth=1):\n",
    "    polygons = create_polygon_list(rotated_bboxes)\n",
    "    labels = [int(num) for num in labels.tolist()]\n",
    "    show_img(image, ax=ax)\n",
    "    \n",
    "    legend_elements = [Patch(edgecolor='g', label='Occupied', fill=False), \n",
    "                       Patch(edgecolor='r', label='Empty', fill=False)]\n",
    "    ax.legend(handles=legend_elements, loc='upper right')\n",
    "    \n",
    "    color_map = {0: 'r', 1: 'g'}\n",
    "\n",
    "    for i, poly in enumerate(polygons):\n",
    "        draw_poly(ax, poly, c=color_map[labels[i]], linewidth=linewidth)"
   ]
  },
  {
   "cell_type": "code",
   "execution_count": 17,
   "metadata": {},
   "outputs": [],
   "source": [
    "transforms = [transform_get_image_from_path,\n",
    "              transform_get_tensor,\n",
    "              transform_random_crop,\n",
    "              transform_padding,\n",
    "              transform_resize,\n",
    "              transform_get_pil,\n",
    "              transform_random_mirror,\n",
    "              transform_get_tensor,\n",
    "              transform_guassian_noise\n",
    "             ]"
   ]
  },
  {
   "cell_type": "code",
   "execution_count": 19,
   "metadata": {
    "scrolled": false
   },
   "outputs": [
    {
     "name": "stdout",
     "output_type": "stream",
     "text": [
      "46.7 ms ± 829 µs per loop (mean ± std. dev. of 7 runs, 10 loops each)\n",
      "torch.Size([3, 300, 300])\n"
     ]
    },
    {
     "data": {
      "image/png": "[encoded data removed]",
      "text/plain": [
       "<Figure size 432x288 with 1 Axes>"
      ]
     },
     "metadata": {
      "needs_background": "light"
     },
     "output_type": "display_data"
    }
   ],
   "source": [
    "x, y, z = image_path, torch.Tensor(occupied), torch.Tensor(rotated_bbox)\n",
    "\n",
    "def test_speed(x, y, z, transforms):\n",
    "    for func in transforms:\n",
    "        x, y, z = func(x, y, z)\n",
    "    return x, y, z\n",
    "    \n",
    "%timeit test_speed(x, y, z, transforms)\n",
    "\n",
    "x, y, z = test_speed(x, y, z, transforms)\n",
    "\n",
    "fig, ax = plt.subplots(1,1)\n",
    "print(x.size())\n",
    "show_truth(x, z, y, ax, 5)\n"
   ]
  },
  {
   "cell_type": "code",
   "execution_count": 20,
   "metadata": {},
   "outputs": [],
   "source": [
    "transforms_noload = [transform_get_tensor,\n",
    "                     transform_random_crop,\n",
    "                     transform_padding,\n",
    "                     transform_get_pil,\n",
    "                     transform_resize,\n",
    "                     transform_random_mirror,\n",
    "                     transform_get_tensor,\n",
    "                     transform_guassian_noise\n",
    "                    ]"
   ]
  },
  {
   "cell_type": "code",
   "execution_count": 21,
   "metadata": {},
   "outputs": [
    {
     "name": "stdout",
     "output_type": "stream",
     "text": [
      "98.8 µs ± 2.05 µs per loop (mean ± std. dev. of 7 runs, 10000 loops each)\n"
     ]
    }
   ],
   "source": [
    "x, y, z = image_path, torch.Tensor(occupied), torch.Tensor(rotated_bbox)\n",
    "%timeit transform_get_image_from_path(x, y, z)\n",
    "x, y, z = transform_get_image_from_path(x, y, z)"
   ]
  },
  {
   "cell_type": "code",
   "execution_count": 22,
   "metadata": {},
   "outputs": [
    {
     "name": "stdout",
     "output_type": "stream",
     "text": [
      "17.9 ms ± 443 µs per loop (mean ± std. dev. of 7 runs, 100 loops each)\n"
     ]
    }
   ],
   "source": [
    "%timeit transform_get_tensor(x, y, z)\n",
    "x, y, z = transform_get_tensor(x, y, z)"
   ]
  },
  {
   "cell_type": "code",
   "execution_count": 23,
   "metadata": {},
   "outputs": [
    {
     "name": "stdout",
     "output_type": "stream",
     "text": [
      "149 µs ± 1.02 µs per loop (mean ± std. dev. of 7 runs, 10000 loops each)\n"
     ]
    }
   ],
   "source": [
    "%timeit transform_random_crop(x, y, z)\n",
    "x, y, z = transform_random_crop(x, y, z)"
   ]
  },
  {
   "cell_type": "code",
   "execution_count": 24,
   "metadata": {},
   "outputs": [
    {
     "name": "stdout",
     "output_type": "stream",
     "text": [
      "1.18 ms ± 18.9 µs per loop (mean ± std. dev. of 7 runs, 1000 loops each)\n"
     ]
    }
   ],
   "source": [
    "%timeit transform_padding(x, y, z)\n",
    "x, y, z = transform_padding(x, y, z)"
   ]
  },
  {
   "cell_type": "code",
   "execution_count": 25,
   "metadata": {},
   "outputs": [
    {
     "name": "stdout",
     "output_type": "stream",
     "text": [
      "1.53 ms ± 13.2 µs per loop (mean ± std. dev. of 7 runs, 1000 loops each)\n"
     ]
    }
   ],
   "source": [
    "%timeit transform_resize(x, y, z)\n",
    "x, y, z = transform_resize(x, y, z)"
   ]
  },
  {
   "cell_type": "code",
   "execution_count": 26,
   "metadata": {},
   "outputs": [
    {
     "name": "stdout",
     "output_type": "stream",
     "text": [
      "3.21 ms ± 119 µs per loop (mean ± std. dev. of 7 runs, 100 loops each)\n"
     ]
    }
   ],
   "source": [
    "%timeit transform_get_pil(x, y, z)\n",
    "x, y, z = transform_get_pil(x, y, z)"
   ]
  },
  {
   "cell_type": "code",
   "execution_count": 27,
   "metadata": {},
   "outputs": [
    {
     "name": "stdout",
     "output_type": "stream",
     "text": [
      "127 µs ± 1.15 µs per loop (mean ± std. dev. of 7 runs, 10000 loops each)\n"
     ]
    }
   ],
   "source": [
    "%timeit transform_random_mirror(x, y, z)\n",
    "x, y, z = transform_random_mirror(x, y, z)"
   ]
  },
  {
   "cell_type": "code",
   "execution_count": 28,
   "metadata": {},
   "outputs": [
    {
     "name": "stdout",
     "output_type": "stream",
     "text": [
      "1.13 ms ± 31.8 µs per loop (mean ± std. dev. of 7 runs, 1000 loops each)\n"
     ]
    }
   ],
   "source": [
    "%timeit transform_get_tensor(x, y, z)\n",
    "x, y, z = transform_get_tensor(x, y, z)"
   ]
  },
  {
   "cell_type": "code",
   "execution_count": 29,
   "metadata": {},
   "outputs": [
    {
     "name": "stdout",
     "output_type": "stream",
     "text": [
      "2.93 ms ± 77.3 µs per loop (mean ± std. dev. of 7 runs, 100 loops each)\n"
     ]
    }
   ],
   "source": [
    "%timeit transform_guassian_noise(x, y, z)\n",
    "x, y, z = transform_guassian_noise(x, y, z)"
   ]
  },
  {
   "cell_type": "code",
   "execution_count": 22,
   "metadata": {},
   "outputs": [],
   "source": [
    "def test_speed(x, y, z, transforms_noload):\n",
    "    for func in transforms_noload:\n",
    "        x, y, z = func(x, y, z)\n",
    "    return x, y, z"
   ]
  },
  {
   "cell_type": "code",
   "execution_count": 26,
   "metadata": {
    "scrolled": true
   },
   "outputs": [
    {
     "name": "stdout",
     "output_type": "stream",
     "text": [
      "34.9 ms ± 1.16 ms per loop (mean ± std. dev. of 7 runs, 10 loops each)\n",
      "torch.Size([3, 300, 300])\n"
     ]
    },
    {
     "ename": "TypeError",
     "evalue": "'float' object is not iterable",
     "output_type": "error",
     "traceback": [
      "\u001b[0;31m---------------------------------------------------------------------------\u001b[0m",
      "\u001b[0;31mTypeError\u001b[0m                                 Traceback (most recent call last)",
      "\u001b[0;32m<ipython-input-26-9cf7856933b9>\u001b[0m in \u001b[0;36m<module>\u001b[0;34m\u001b[0m\n\u001b[1;32m      6\u001b[0m \u001b[0mfig\u001b[0m\u001b[0;34m,\u001b[0m \u001b[0max\u001b[0m \u001b[0;34m=\u001b[0m \u001b[0mplt\u001b[0m\u001b[0;34m.\u001b[0m\u001b[0msubplots\u001b[0m\u001b[0;34m(\u001b[0m\u001b[0;36m1\u001b[0m\u001b[0;34m,\u001b[0m\u001b[0;36m1\u001b[0m\u001b[0;34m)\u001b[0m\u001b[0;34m\u001b[0m\u001b[0;34m\u001b[0m\u001b[0m\n\u001b[1;32m      7\u001b[0m \u001b[0mprint\u001b[0m\u001b[0;34m(\u001b[0m\u001b[0mx\u001b[0m\u001b[0;34m.\u001b[0m\u001b[0msize\u001b[0m\u001b[0;34m(\u001b[0m\u001b[0;34m)\u001b[0m\u001b[0;34m)\u001b[0m\u001b[0;34m\u001b[0m\u001b[0;34m\u001b[0m\u001b[0m\n\u001b[0;32m----> 8\u001b[0;31m \u001b[0mshow_truth\u001b[0m\u001b[0;34m(\u001b[0m\u001b[0mx\u001b[0m\u001b[0;34m,\u001b[0m \u001b[0mz\u001b[0m\u001b[0;34m,\u001b[0m \u001b[0my\u001b[0m\u001b[0;34m,\u001b[0m \u001b[0max\u001b[0m\u001b[0;34m,\u001b[0m \u001b[0;36m5\u001b[0m\u001b[0;34m)\u001b[0m\u001b[0;34m\u001b[0m\u001b[0;34m\u001b[0m\u001b[0m\n\u001b[0m",
      "\u001b[0;32m<ipython-input-16-1a76d63dc81c>\u001b[0m in \u001b[0;36mshow_truth\u001b[0;34m(image, rotated_bboxes, labels, ax, linewidth)\u001b[0m\n\u001b[1;32m     50\u001b[0m \u001b[0;32mdef\u001b[0m \u001b[0mshow_truth\u001b[0m\u001b[0;34m(\u001b[0m\u001b[0mimage\u001b[0m\u001b[0;34m,\u001b[0m \u001b[0mrotated_bboxes\u001b[0m\u001b[0;34m,\u001b[0m \u001b[0mlabels\u001b[0m\u001b[0;34m,\u001b[0m \u001b[0max\u001b[0m\u001b[0;34m,\u001b[0m \u001b[0mlinewidth\u001b[0m\u001b[0;34m=\u001b[0m\u001b[0;36m1\u001b[0m\u001b[0;34m)\u001b[0m\u001b[0;34m:\u001b[0m\u001b[0;34m\u001b[0m\u001b[0;34m\u001b[0m\u001b[0m\n\u001b[1;32m     51\u001b[0m     \u001b[0mpolygons\u001b[0m \u001b[0;34m=\u001b[0m \u001b[0mcreate_polygon_list\u001b[0m\u001b[0;34m(\u001b[0m\u001b[0mrotated_bboxes\u001b[0m\u001b[0;34m)\u001b[0m\u001b[0;34m\u001b[0m\u001b[0;34m\u001b[0m\u001b[0m\n\u001b[0;32m---> 52\u001b[0;31m     \u001b[0mlabels\u001b[0m \u001b[0;34m=\u001b[0m \u001b[0;34m[\u001b[0m\u001b[0mint\u001b[0m\u001b[0;34m(\u001b[0m\u001b[0mnum\u001b[0m\u001b[0;34m)\u001b[0m \u001b[0;32mfor\u001b[0m \u001b[0mnum\u001b[0m \u001b[0;32min\u001b[0m \u001b[0mlabels\u001b[0m\u001b[0;34m.\u001b[0m\u001b[0mtolist\u001b[0m\u001b[0;34m(\u001b[0m\u001b[0;34m)\u001b[0m\u001b[0;34m]\u001b[0m\u001b[0;34m\u001b[0m\u001b[0;34m\u001b[0m\u001b[0m\n\u001b[0m\u001b[1;32m     53\u001b[0m     \u001b[0mshow_img\u001b[0m\u001b[0;34m(\u001b[0m\u001b[0mimage\u001b[0m\u001b[0;34m,\u001b[0m \u001b[0max\u001b[0m\u001b[0;34m=\u001b[0m\u001b[0max\u001b[0m\u001b[0;34m)\u001b[0m\u001b[0;34m\u001b[0m\u001b[0;34m\u001b[0m\u001b[0m\n\u001b[1;32m     54\u001b[0m \u001b[0;34m\u001b[0m\u001b[0m\n",
      "\u001b[0;31mTypeError\u001b[0m: 'float' object is not iterable"
     ]
    },
    {
     "data": {
      "image/png": "[encoded data removed]",
      "text/plain": [
       "<Figure size 432x288 with 1 Axes>"
      ]
     },
     "metadata": {
      "needs_background": "light"
     },
     "output_type": "display_data"
    }
   ],
   "source": [
    "\n",
    "%timeit test_speed(x, y, z, transforms_noload)\n",
    "\n",
    "x, y, z = test_speed(x, y, z, transforms_noload)\n",
    "\n",
    "fig, ax = plt.subplots(1,1)\n",
    "print(x.size())\n",
    "show_truth(x, z, y, ax, 5)"
   ]
  },
  {
   "cell_type": "code",
   "execution_count": 142,
   "metadata": {},
   "outputs": [],
   "source": [
    "a = torch.tensor([[1,2,3], [1,2,3], [4,5,6]])"
   ]
  },
  {
   "cell_type": "code",
   "execution_count": 143,
   "metadata": {},
   "outputs": [
    {
     "data": {
      "text/plain": [
       "tensor([[1, 2, 3],\n",
       "        [1, 2, 3],\n",
       "        [4, 5, 6]])"
      ]
     },
     "execution_count": 143,
     "metadata": {},
     "output_type": "execute_result"
    }
   ],
   "source": [
    "a"
   ]
  },
  {
   "cell_type": "code",
   "execution_count": 146,
   "metadata": {},
   "outputs": [
    {
     "data": {
      "text/plain": [
       "tensor([[1, 2, 3, 0, 0],\n",
       "        [1, 2, 3, 0, 0],\n",
       "        [4, 5, 6, 0, 0],\n",
       "        [0, 0, 0, 0, 0],\n",
       "        [0, 0, 0, 0, 0],\n",
       "        [0, 0, 0, 0, 0]])"
      ]
     },
     "execution_count": 146,
     "metadata": {},
     "output_type": "execute_result"
    }
   ],
   "source": [
    "F.pad(a, (0, 2, 0, 3))"
   ]
  },
  {
   "cell_type": "code",
   "execution_count": null,
   "metadata": {},
   "outputs": [],
   "source": []
  }
 ],
 "metadata": {
  "kernelspec": {
   "display_name": "Python 3",
   "language": "python",
   "name": "python3"
  },
  "language_info": {
   "codemirror_mode": {
    "name": "ipython",
    "version": 3
   },
   "file_extension": ".py",
   "mimetype": "text/x-python",
   "name": "python",
   "nbconvert_exporter": "python",
   "pygments_lexer": "ipython3",
   "version": "3.6.8"
  }
 },
 "nbformat": 4,
 "nbformat_minor": 2
}
